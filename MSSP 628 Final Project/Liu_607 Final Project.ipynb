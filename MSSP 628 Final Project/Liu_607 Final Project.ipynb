{
 "cells": [
  {
   "cell_type": "code",
   "execution_count": 36,
   "metadata": {},
   "outputs": [],
   "source": [
    "import pandas as pd\n",
    "import re\n",
    "from pandas.io.json import json_normalize\n",
    "import numpy as np\n",
    "import matplotlib.pyplot as plt\n",
    "from scipy import stats\n",
    "%matplotlib inline \n",
    "#generate side graph"
   ]
  },
  {
   "cell_type": "code",
   "execution_count": 37,
   "metadata": {},
   "outputs": [],
   "source": [
    "artists = pd.read_csv(open(\"artists.csv\"))\n",
    "artworks = pd.read_csv(open(\"artworks.csv\"))"
   ]
  },
  {
   "cell_type": "markdown",
   "metadata": {},
   "source": [
    "# MoMA Acquisitions\n",
    "\n",
    "The goal of this file is to answer one big question: **how should MoMA improve its future art acquisition?**\n",
    "\n",
    "First, choose selective data into a new dataframe and classify donors into different types.\n",
    "Overview the data number of rows and columns as well as data types"
   ]
  },
  {
   "cell_type": "code",
   "execution_count": 106,
   "metadata": {},
   "outputs": [
    {
     "name": "stdout",
     "output_type": "stream",
     "text": [
      "(130262, 5)\n",
      "Artwork ID           int64\n",
      "Date                object\n",
      "Acquisition Date    object\n",
      "Credit              object\n",
      "Department          object\n",
      "dtype: object\n"
     ]
    }
   ],
   "source": [
    "artwork = artworks[[\"Artwork ID\", \"Date\",\"Acquisition Date\",\"Credit\",\"Department\"]]\n",
    "print(artwork.shape)\n",
    "print(artwork.dtypes)"
   ]
  },
  {
   "cell_type": "markdown",
   "metadata": {},
   "source": [
    "Second, classify donors into six categories with regex expressions"
   ]
  },
  {
   "cell_type": "code",
   "execution_count": 108,
   "metadata": {},
   "outputs": [
    {
     "name": "stderr",
     "output_type": "stream",
     "text": [
      "/opt/anaconda3/lib/python3.7/site-packages/ipykernel_launcher.py:15: SettingWithCopyWarning: \n",
      "A value is trying to be set on a copy of a slice from a DataFrame.\n",
      "Try using .loc[row_indexer,col_indexer] = value instead\n",
      "\n",
      "See the caveats in the documentation: http://pandas.pydata.org/pandas-docs/stable/user_guide/indexing.html#returning-a-view-versus-a-copy\n",
      "  from ipykernel import kernelapp as app\n"
     ]
    }
   ],
   "source": [
    "def donor_type(donor):\n",
    "    if re.search(r'Gift',str(donor)) or re.search(r', gift',str(donor)) :\n",
    "        return \"Gift\"\n",
    "    elif re.search(r'^Purchase+$',str(donor)):\n",
    "        return \"Purchase\"\n",
    "    elif re.search(r'Purchase and partial gift',str(donor)) or re.search(r'partial gift',str(donor)):\n",
    "        return \"Purchase and partial gift\"\n",
    "    elif re.search(r'National Endowment',str(donor)):\n",
    "        return \"National Endowment\"\n",
    "    elif re.search(r'Given anonymously',str(donor)):\n",
    "        return \"Given anonymously\"\n",
    "    else:\n",
    "        return \"Other\"\n",
    "\n",
    "artwork['Donor Type'] = artwork['Credit'].apply(donor_type)"
   ]
  },
  {
   "cell_type": "markdown",
   "metadata": {},
   "source": [
    "## Sub-question 1: What is donors' acquisition trend by year?"
   ]
  },
  {
   "cell_type": "code",
   "execution_count": 120,
   "metadata": {},
   "outputs": [
    {
     "name": "stdout",
     "output_type": "stream",
     "text": [
      "Donor Type\n",
      "Gift                         66406\n",
      "Given anonymously             1581\n",
      "National Endowment             295\n",
      "Other                        53490\n",
      "Purchase                      8404\n",
      "Purchase and partial gift       86\n",
      "dtype: int64\n",
      "0         1996-04-09\n",
      "1         1995-01-17\n",
      "2         1997-01-15\n",
      "3         1995-01-17\n",
      "4         1997-01-15\n",
      "             ...    \n",
      "130257    2008-10-08\n",
      "130258    2008-10-08\n",
      "130259    2008-10-08\n",
      "130260    2008-10-08\n",
      "130261    2008-10-08\n",
      "Name: Acquisition Date, Length: 130262, dtype: object\n"
     ]
    }
   ],
   "source": [
    "donor_counts = artwork.groupby(\"Donor Type\").size()\n",
    "print(donor_counts.iloc[:10])\n",
    "print(artwork[\"Acquisition Date\"])"
   ]
  },
  {
   "cell_type": "code",
   "execution_count": null,
   "metadata": {},
   "outputs": [],
   "source": []
  }
 ],
 "metadata": {
  "kernelspec": {
   "display_name": "Python 3",
   "language": "python",
   "name": "python3"
  },
  "language_info": {
   "codemirror_mode": {
    "name": "ipython",
    "version": 3
   },
   "file_extension": ".py",
   "mimetype": "text/x-python",
   "name": "python",
   "nbconvert_exporter": "python",
   "pygments_lexer": "ipython3",
   "version": "3.7.4"
  }
 },
 "nbformat": 4,
 "nbformat_minor": 2
}
